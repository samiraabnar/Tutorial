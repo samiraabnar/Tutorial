{
 "cells": [
  {
   "cell_type": "code",
   "execution_count": 8,
   "metadata": {
    "collapsed": false
   },
   "outputs": [],
   "source": [
    "import theano\n",
    "import theano.tensor as T\n",
    "import numpy as np\n",
    "\n",
    "from lasagne.updates import sgd,apply_momentum"
   ]
  },
  {
   "cell_type": "code",
   "execution_count": 21,
   "metadata": {
    "collapsed": false
   },
   "outputs": [],
   "source": [
    "class ImageCaptionGeneraot(object):\n",
    "    \n",
    "    def __init__(self, \n",
    "                 image_dims, \n",
    "                 image_rep_dim, \n",
    "                 lstm_input_dim, \n",
    "                 lstm_hidden_dim, \n",
    "                 lstm_output_dim, \n",
    "                 learning_rate):\n",
    "    \n",
    "        self.image_dims = image_dims\n",
    "        self.image_rep_dim = image_rep_dim\n",
    "        self.lstm_input_dim = lstm_input_dim\n",
    "        self.lstm_hidden_dim = lstm_hidden_dim\n",
    "        self.lstm_output_dim = lstm_output_dim\n",
    "        self.learning_rate = learning_rate\n",
    "        \n",
    "        "
   ]
  },
  {
   "cell_type": "code",
   "execution_count": null,
   "metadata": {
    "collapsed": true
   },
   "outputs": [],
   "source": []
  }
 ],
 "metadata": {
  "kernelspec": {
   "display_name": "Python 3",
   "language": "python",
   "name": "python3"
  },
  "language_info": {
   "codemirror_mode": {
    "name": "ipython",
    "version": 3
   },
   "file_extension": ".py",
   "mimetype": "text/x-python",
   "name": "python",
   "nbconvert_exporter": "python",
   "pygments_lexer": "ipython3",
   "version": "3.5.1"
  }
 },
 "nbformat": 4,
 "nbformat_minor": 0
}
