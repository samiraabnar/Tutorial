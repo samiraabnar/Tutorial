{
 "cells": [
  {
   "cell_type": "code",
   "execution_count": null,
   "metadata": {
    "collapsed": true
   },
   "outputs": [],
   "source": [
    "class LSTM_LanguageModel(object):\n",
    "    def __init__(self,word_dim,hidden_dim,vocab_size,vocab):\n",
    "        self.word_dim = word_dim\n",
    "        self.hidden_dim = hidden_dim\n",
    "        self.vocab_size = vocab_size\n",
    "        self.vocab = vocab\n",
    "        self.initWord = np.eye(vocab_size)[0]\n",
    "        \n",
    "    def define_network(self):\n",
    "        \n",
    "        def lstm_step(prev_output,prev_hidden,prev_memory):\n",
    "            input_gate = T.nnet.hard_sigmoid(T.dot(( self.U_input),prev_output) + T.dot(self.W_input,prev_state) + self.bias_input)\n",
    "            forget_gate = T.nnet.hard_sigmoid(T.dot(( self.U_forget),prev_output) + T.dot(self.W_forget,prev_state)+ self.bias_forget)\n",
    "            output_gate = T.nnet.hard_sigmoid(T.dot((self.U_output),prev_output) + T.dot(self.W_output,prev_state)+ self.bias_output)\n",
    "\n",
    "\n",
    "\n",
    "            stabilized_input = T.tanh(T.dot((self.U),prev_output) + T.dot(self.W,prev_state) + self.bias)\n",
    "            c = forget_gate * prev_content + input_gate * stabilized_input\n",
    "            s = output_gate * T.tanh(c) \n",
    "            \n",
    "            output = T.softmax(T.dot(self.W_o,s))[0]\n",
    "            \n",
    "            return [output,s,c,  theano.scan_module.until(np.argmax(output) > (self.vocab_size - 2)]\n",
    "        \n",
    "        \n",
    "        [self.output,self.hidden_state, self.memory_content], updates = theano.scan(\n",
    "            forward_step,\n",
    "            truncate_gradient=-1,\n",
    "            n_steps= 5,\n",
    "            outputs_info=[None,dict(initial = self.InitWord),dict(initial= T.zeros(self.hidden_dim, dtype=theano.config.floatX)),\n",
    "                          dict(initial=T.zeros(self.hidden_dim, dtype=theano.config.floatX)),\n",
    "                          ])\n",
    "            \n",
    "        "
   ]
  }
 ],
 "metadata": {
  "kernelspec": {
   "display_name": "Python 3",
   "language": "python",
   "name": "python3"
  },
  "language_info": {
   "codemirror_mode": {
    "name": "ipython",
    "version": 3
   },
   "file_extension": ".py",
   "mimetype": "text/x-python",
   "name": "python",
   "nbconvert_exporter": "python",
   "pygments_lexer": "ipython3",
   "version": "3.5.1"
  },
  "latex_envs": {
   "bibliofile": "biblio.bib",
   "cite_by": "apalike",
   "current_citInitial": 1,
   "eqLabelWithNumbers": true,
   "eqNumInitial": 0
  }
 },
 "nbformat": 4,
 "nbformat_minor": 0
}
